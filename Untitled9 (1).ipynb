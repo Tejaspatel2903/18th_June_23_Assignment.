{
  "nbformat": 4,
  "nbformat_minor": 0,
  "metadata": {
    "colab": {
      "provenance": []
    },
    "kernelspec": {
      "name": "python3",
      "display_name": "Python 3"
    },
    "language_info": {
      "name": "python"
    }
  },
  "cells": [
    {
      "cell_type": "markdown",
      "source": [
        "# 1. What is the role of the 'else' block in a try-except statement? Provide an example scenario where it would be useful."
      ],
      "metadata": {
        "id": "4UZGJYxRa-k9"
      }
    },
    {
      "cell_type": "markdown",
      "source": [
        "# Ans:- Here's an example scenario where the 'else' block is useful:"
      ],
      "metadata": {
        "id": "X_PJJYN9h026"
      }
    },
    {
      "cell_type": "code",
      "source": [
        "def divide_numbers(a, b):\n",
        "    try:\n",
        "        result = a / b\n",
        "    except ZeroDivisionError:\n",
        "        print(\"Error: Cannot divide by zero.\")\n",
        "    else:\n",
        "        print(f\"The result of {a} divided by {b} is: {result}\")\n",
        "\n",
        "# Example usage:\n",
        "divide_numbers(10, 2)\n",
        " # Output: The result of 10 divided by 2 is: 5.0\n",
        "\n",
        "divide_numbers(10, 0)\n",
        " # Output: Error: Cannot divide by zero."
      ],
      "metadata": {
        "colab": {
          "base_uri": "https://localhost:8080/"
        },
        "id": "eqG0hVbea9SX",
        "outputId": "0caf4af3-489a-4136-d215-a23a946d938d"
      },
      "execution_count": null,
      "outputs": [
        {
          "output_type": "stream",
          "name": "stdout",
          "text": [
            "The result of 10 divided by 2 is: 5.0\n",
            "Error: Cannot divide by zero.\n"
          ]
        }
      ]
    },
    {
      "cell_type": "markdown",
      "source": [
        "# 2. Can a try-except block be nested inside another try-except block? Explain with an example."
      ],
      "metadata": {
        "id": "vPmqTNiliVtC"
      }
    },
    {
      "cell_type": "markdown",
      "source": [
        "Yes, a try-except block can be nested inside another try-except block. This means you can have one try-except block inside another, allowing you to handle different levels of exceptions more granularly."
      ],
      "metadata": {
        "id": "QHwsDyz0jvV9"
      }
    },
    {
      "cell_type": "code",
      "source": [
        "def nested_exception_handling():\n",
        "    try:\n",
        "        num1 = int(input(\"Enter a number: \"))\n",
        "\n",
        "        try:\n",
        "            num2 = int(input(\"Enter another number: \"))\n",
        "            result = num1 / num2\n",
        "            print(f\"The result of {num1} divided by {num2} is: {result}\")\n",
        "        except ZeroDivisionError:\n",
        "            print(\"Error: Cannot divide by zero.\")\n",
        "        except ValueError:\n",
        "            print(\"Error: Invalid input. Please enter a valid integer.\")\n",
        "\n",
        "    except ValueError:\n",
        "        print(\"Error: Invalid input. Please enter a valid integer.\")\n",
        "\n",
        "# Example usage:\n",
        "nested_exception_handling()"
      ],
      "metadata": {
        "colab": {
          "base_uri": "https://localhost:8080/"
        },
        "id": "o1VtZ8Uha9P9",
        "outputId": "891d1797-2ba9-48a4-9f04-dc3cbcb99694"
      },
      "execution_count": null,
      "outputs": [
        {
          "output_type": "stream",
          "name": "stdout",
          "text": [
            "Enter a number: 44\n",
            "Enter another number: 22\n",
            "The result of 44 divided by 22 is: 2.0\n"
          ]
        }
      ]
    },
    {
      "cell_type": "markdown",
      "source": [
        "Here are possible scenarios and their outputs:\n",
        "\n",
        "User enters \"5\" and \"2\":\n",
        "Output: \"The result of 5 divided by 2 is: 2.5\"\n",
        "\n",
        "User enters \"5\" and \"0\":\n",
        "Output: \"Error: Cannot divide by zero.\"\n",
        "\n",
        "User enters \"5\" and \"abc\":\n",
        "Output: \"Error: Invalid input. Please enter a valid integer.\"\n",
        "\n",
        "User enters \"abc\":\n",
        "Output: \"Error: Invalid input. Please enter a valid integer.\""
      ],
      "metadata": {
        "id": "ysrZEoeSk6MK"
      }
    },
    {
      "cell_type": "markdown",
      "source": [
        "# 3. How can you create a custom exception class in Python? Provide an example that demonstrates its usage."
      ],
      "metadata": {
        "id": "Hc5guA5NlOWW"
      }
    },
    {
      "cell_type": "markdown",
      "source": [
        "Ans:- In Python, you can create a custom exception class by defining a new class that inherits from the built-in Exception class or any other suitable exception class. Custom exception classes are useful when you want to raise specific types of exceptions that are relevant to your application and need custom error messages or behavior."
      ],
      "metadata": {
        "id": "HpELnaDJluP5"
      }
    },
    {
      "cell_type": "code",
      "source": [
        "class CustomError(Exception):\n",
        "    def __init__(self, message):\n",
        "        self.message = message\n",
        "        super().__init__(self.message)\n",
        "\n",
        "def validate_age(age):\n",
        "    if age < 0:\n",
        "        raise CustomError(\"Age cannot be negative.\")\n",
        "    elif age < 18:\n",
        "        raise CustomError(\"You must be at least 18 years old.\")\n",
        "\n",
        "# Example usage:\n",
        "try:\n",
        "    user_age = int(input(\"Enter your age: \"))\n",
        "    validate_age(user_age)\n",
        "    print(\"Welcome to the website!\")\n",
        "except CustomError as e:\n",
        "    print(\"Error:\", e)"
      ],
      "metadata": {
        "colab": {
          "base_uri": "https://localhost:8080/"
        },
        "id": "2Kzv6TJIa9Np",
        "outputId": "e58af9e2-54fa-4896-fb98-2adeceb59124"
      },
      "execution_count": null,
      "outputs": [
        {
          "output_type": "stream",
          "name": "stdout",
          "text": [
            "Enter your age: 21\n",
            "Welcome to the website!\n"
          ]
        }
      ]
    },
    {
      "cell_type": "markdown",
      "source": [
        "Example usage scenarios:\n",
        "\n",
        "User enters \"-5\":\n",
        "Output: \"Error: Age cannot be negative.\"\n",
        "\n",
        "User enters \"15\":\n",
        "Output: \"Error: You must be at least 18 years old.\"\n",
        "\n",
        "User enters \"25\":\n",
        "Output: \"Welcome to the website!\""
      ],
      "metadata": {
        "id": "ghIyjGMkmESD"
      }
    },
    {
      "cell_type": "markdown",
      "source": [
        "#4. What are some common exceptions that are built-in to Python?"
      ],
      "metadata": {
        "id": "yoUcue7lmMGO"
      }
    },
    {
      "cell_type": "markdown",
      "source": [
        "#Ans\n",
        "\n",
        "**1. Python provides several built-in exceptions that cover a wide range of error scenarios. Some of the common built-in exceptions in Python include:**\n",
        "\n",
        "**2. SyntaxError: Raised when there is a syntax error in the code, such as incorrect indentation, missing parentheses, or invalid syntax.**\n",
        "\n",
        "**3. IndentationError: Raised when there is an issue with the indentation of the code, such as inconsistent use of tabs and spaces.**\n",
        "\n",
        "**4. NameError: Raised when a variable or name is not defined in the current scope.**\n",
        "\n",
        "**5. TypeError: Raised when an operation or function is applied to an object of an inappropriate data type.**\n",
        "\n",
        "**6. ValueError: Raised when an operation or function receives an argument of the correct data type but an inappropriate value for that type.**\n",
        "\n",
        "**7. ZeroDivisionError: Raised when attempting to divide by zero.**\n",
        "\n",
        "**8. IndexError: Raised when trying to access an invalid index in a sequence (e.g., list, tuple, string).**\n",
        "\n",
        "**9. KeyError: Raised when trying to access a non-existent key in a dictionary.**\n",
        "\n",
        "**10. FileNotFoundError: Raised when a file operation is performed on a file that does not exist or cannot be found.**\n",
        "\n",
        "**11. IOError: Raised when an input/output operation fails, such as when reading from or writing to a file.**\n",
        "\n",
        "**12. MemoryError: Raised when the program runs out of available memory.**\n",
        "\n",
        "**13. ImportError: Raised when an import statement cannot find the specified module or package.**\n",
        "\n",
        "**14. StopIteration: Raised when the next() function is called on an iterator that has reached the end of its sequence.**\n",
        "\n",
        "**15. KeyboardInterrupt: Raised when the user interrupts the program by pressing Ctrl+C.**\n",
        "\n",
        "**16. OverflowError: Raised when an arithmetic operation results in a value that exceeds the range of representable values for the data type being used.**\n",
        "\n",
        "**17. AssertionError: Raised when an assert statement fails.**"
      ],
      "metadata": {
        "id": "r2fjYwFxmiSN"
      }
    },
    {
      "cell_type": "markdown",
      "source": [
        "#5. What is logging in Python, and why is it important in software development?"
      ],
      "metadata": {
        "id": "JKx0W_nhoKMT"
      }
    },
    {
      "cell_type": "markdown",
      "source": [
        "**Ans**:-Logging in Python is a built-in module that allows developers to record and store messages during the execution of a program. It is a mechanism used to generate log records that provide information about the program's behavior, errors, and status at different stages of execution. The logging module provides a standardized way to manage and control log messages, making it a valuable tool for software development."
      ],
      "metadata": {
        "id": "MUgwwWqet8Do"
      }
    },
    {
      "cell_type": "markdown",
      "source": [
        "**1. Loggers:** Objects used to create log records. Each logger is identified by a name, and multiple loggers can exist within a program.\n",
        "\n",
        "**2. Handlers:** Objects responsible for determining what to do with the log recor ds generated by loggers. Handlers decide where to send the log messages, such as writing them to files or displaying them on the console.\n",
        "\n",
        "**3. Formatters:** Objects that specify the format of the log messages. They define how the log records should be displayed, including timestamps, log levels, and the actual log message."
      ],
      "metadata": {
        "id": "jPVZ5Synu7pZ"
      }
    },
    {
      "cell_type": "markdown",
      "source": [
        "# Logging is important in software development for several reasons:\n",
        "\n",
        "**Debugging:** Logging helps developers identify and track issues in their code. By adding log messages strategically at critical points in the code, developers can get insights into the flow of the program and identify where errors occur.\n",
        "\n",
        "**Monitoring and Diagnostics:**  In production environments, logging allows monitoring and diagnostics of the application's performance and behavior. It helps identify potential bottlenecks, errors, or abnormal behavior, allowing for timely troubleshooting and maintenance.\n",
        "\n",
        "**Troubleshooting and Support**: Logging provides valuable information that can be used for troubleshooting and customer support. When users encounter issues, logs can provide valuable clues about what went wrong, helping support teams diagnose and resolve problems efficiently.\n",
        "\n",
        "**Auditing and Compliance:** In some applications, logging is required for compliance with industry regulations and security standards. Logging helps maintain an audit trail of user actions, ensuring transparency and accountability.\n",
        "\n",
        "**Data Analysis**: Logs can be used for data analysis and understanding how users interact with an application. By analyzing logs, developers can gain insights into user behavior, usage patterns, and performance metrics."
      ],
      "metadata": {
        "id": "_o-zxR-Qu7mI"
      }
    },
    {
      "cell_type": "markdown",
      "source": [
        "#6. Explain the purpose of log levels in Python logging and provide examples of when each log level would be appropriate."
      ],
      "metadata": {
        "id": "kXRRgD0ErUcg"
      }
    },
    {
      "cell_type": "markdown",
      "source": [
        "# The common log levels in Python logging, in increasing order of severity, are:"
      ],
      "metadata": {
        "id": "ZlgGL2Lfu6_4"
      }
    },
    {
      "cell_type": "markdown",
      "source": [
        "**DEBUG:** Used for detailed debugging information, primarily intended for developers to trace the flow of the program, variable values, etc. These messages are useful during development and should be disabled in production to avoid excessive log output."
      ],
      "metadata": {
        "id": "gd1s5lOntlYP"
      }
    },
    {
      "cell_type": "code",
      "source": [
        "import logging\n",
        "\n",
        "logging.basicConfig(level=logging.DEBUG)\n",
        "logging.debug(\"This is a debug message.\")"
      ],
      "metadata": {
        "id": "wqqElV0va9LJ"
      },
      "execution_count": null,
      "outputs": []
    },
    {
      "cell_type": "markdown",
      "source": [
        "**INFO:** Used for general information about the program's operation. It provides information about important milestones or significant events, but it doesn't indicate any issues or errors. These messages are helpful for tracking the program's execution."
      ],
      "metadata": {
        "id": "5w5sHst9usP2"
      }
    },
    {
      "cell_type": "code",
      "source": [
        "import logging\n",
        "\n",
        "logging.basicConfig(level=logging.INFO)\n",
        "logging.info(\"The application started.\")"
      ],
      "metadata": {
        "id": "ZGYOvh4ia9G3"
      },
      "execution_count": null,
      "outputs": []
    },
    {
      "cell_type": "markdown",
      "source": [
        "**WARNING:** Used to indicate potential issues that do not prevent the program from running but might lead to problems in the future. These messages signal situations that may require attention or adjustments."
      ],
      "metadata": {
        "id": "91cBrOofuz0t"
      }
    },
    {
      "cell_type": "code",
      "source": [
        "import logging\n",
        "\n",
        "logging.basicConfig(level=logging.WARNING)\n",
        "logging.warning(\"The disk space is running low.\")"
      ],
      "metadata": {
        "id": "nY48sc-ua9De",
        "colab": {
          "base_uri": "https://localhost:8080/"
        },
        "outputId": "2a7d4dae-8a9a-4f5d-b5c1-8169b4a33561"
      },
      "execution_count": null,
      "outputs": [
        {
          "output_type": "stream",
          "name": "stderr",
          "text": [
            "WARNING:root:The disk space is running low.\n"
          ]
        }
      ]
    },
    {
      "cell_type": "markdown",
      "source": [
        "**ERROR**: Used to indicate errors that cause the program to behave unexpectedly or fail to execute a certain operation. These messages highlight issues that require immediate attention."
      ],
      "metadata": {
        "id": "eVrVRaSEwgYN"
      }
    },
    {
      "cell_type": "code",
      "source": [
        "import logging\n",
        "\n",
        "logging.basicConfig(level=logging.ERROR)\n",
        "logging.error(\"An unexpected error occurred.\")\n"
      ],
      "metadata": {
        "id": "NDQBYUgEa8w4",
        "colab": {
          "base_uri": "https://localhost:8080/"
        },
        "outputId": "3c6bb582-cda7-4e57-f185-e415091c5a4e"
      },
      "execution_count": null,
      "outputs": [
        {
          "output_type": "stream",
          "name": "stderr",
          "text": [
            "ERROR:root:An unexpected error occurred.\n"
          ]
        }
      ]
    },
    {
      "cell_type": "markdown",
      "source": [
        "**CRITICAL**: Used to indicate critical errors that could lead to program termination or severe system failures. These messages signify major issues that need urgent attention."
      ],
      "metadata": {
        "id": "3zDq-FZ7w6kG"
      }
    },
    {
      "cell_type": "code",
      "source": [
        "import logging\n",
        "\n",
        "logging.basicConfig(level=logging.CRITICAL)\n",
        "logging.critical(\"System overload! Shutting down.\")"
      ],
      "metadata": {
        "id": "xO7LCQlea8sX",
        "colab": {
          "base_uri": "https://localhost:8080/"
        },
        "outputId": "0a42fa87-8019-43b3-c277-f96275f009df"
      },
      "execution_count": null,
      "outputs": [
        {
          "output_type": "stream",
          "name": "stderr",
          "text": [
            "CRITICAL:root:System overload! Shutting down.\n"
          ]
        }
      ]
    },
    {
      "cell_type": "markdown",
      "source": [
        "# 7. What are log formatters in Python logging, and how can you customise the log message format using formatters?"
      ],
      "metadata": {
        "id": "arsrQbzo22-F"
      }
    },
    {
      "cell_type": "code",
      "source": [
        "import logging\n",
        "\n",
        "# Create a custom log formatter\n",
        "formatter = logging.Formatter('%(asctime)s - %(levelname)s - %(message)s')\n",
        "\n",
        "# Create a logger and set the formatter\n",
        "logger = logging.getLogger('custom_logger')\n",
        "handler = logging.StreamHandler()\n",
        "handler.setFormatter(formatter)\n",
        "logger.addHandler(handler)\n",
        "\n",
        "# Log some messages\n",
        "logger.error(\"An error occurred.\")\n",
        "logger.warning(\"This is a warning.\")"
      ],
      "metadata": {
        "id": "V0Bhrtnma8o3",
        "colab": {
          "base_uri": "https://localhost:8080/"
        },
        "outputId": "8623e33b-e340-4591-d8aa-3ba82d8a7a1b"
      },
      "execution_count": null,
      "outputs": [
        {
          "output_type": "stream",
          "name": "stderr",
          "text": [
            "2023-08-03 14:24:28,199 - ERROR - An error occurred.\n",
            "ERROR:custom_logger:An error occurred.\n",
            "2023-08-03 14:24:28,210 - WARNING - This is a warning.\n",
            "WARNING:custom_logger:This is a warning.\n"
          ]
        }
      ]
    },
    {
      "cell_type": "markdown",
      "source": [
        "In this example, the custom formatter is created using the Formatter class with a specific format string '%(asctime)s - %(levelname)s - %(message)s'. The format string contains placeholders that are replaced with actual values when the log messages are recorded. In this case, %(asctime)s represents the timestamp, %(levelname)s represents the log level, and %(message)s represents the log message content."
      ],
      "metadata": {
        "id": "QM8vd9zKyVQQ"
      }
    },
    {
      "cell_type": "markdown",
      "source": [
        "You can customize the format string to include various placeholders and arrange them as needed. Some common placeholders include:\n",
        "\n",
        "**%(asctime)s**: The timestamp when the log message was recorded.\n",
        "\n",
        "**%(levelname)s**: The log level (e.g., DEBUG, INFO, ERROR).\n",
        "\n",
        "**%(message)s:** The actual log message content.\n",
        "\n",
        "**%(name)s**: The logger's name.\n",
        "\n",
        "**%(module)s:** The name of the module where the logging call was made.\n",
        "\n",
        "**%(lineno)d:** The line number in the module where the logging call was made.\n",
        "\n",
        "You can include these placeholders and more in your format string to create log messages with the desired format and information. Customizing log message formats using formatters helps improve the readability and usefulness of the log output, making it easier to understand and diagnose issues during development and production."
      ],
      "metadata": {
        "id": "xsoGmycFygIx"
      }
    },
    {
      "cell_type": "markdown",
      "source": [
        "#8. How can you set up logging to capture log messages from multiple modules or classes in a Python application?"
      ],
      "metadata": {
        "id": "xCr2wxSXzenN"
      }
    },
    {
      "cell_type": "markdown",
      "source": [
        "Import the logging module:"
      ],
      "metadata": {
        "id": "WQvUU0N73SNf"
      }
    },
    {
      "cell_type": "code",
      "source": [
        "import logging"
      ],
      "metadata": {
        "id": "yf8Kciasa8jl"
      },
      "execution_count": null,
      "outputs": []
    },
    {
      "cell_type": "markdown",
      "source": [
        "1.**Configure the root logger (optional):**\n",
        "The root logger is the default logger in Python's logging module. You can configure it to handle log messages with a specific level and format. However, it's recommended to create separate loggers for different modules or classes to have better control and isolation of log messages.\n",
        "\n",
        "2.**Create and configure separate loggers for each module or class:**\n",
        "Create logger instances for different parts of your application, and configure each logger with its own logging level, handlers, and formatters."
      ],
      "metadata": {
        "id": "Gz0UKZ1k3c0u"
      }
    },
    {
      "cell_type": "code",
      "source": [
        "# Module: module1.py\n",
        "import logging\n",
        "\n",
        "logger = logging.getLogger(__name__)\n",
        "handler = logging.StreamHandler()\n",
        "formatter = logging.Formatter('%(asctime)s - %(levelname)s - %(module)s - %(message)s')\n",
        "handler.setFormatter(formatter)\n",
        "logger.addHandler(handler)\n",
        "logger.setLevel(logging.DEBUG)\n",
        "\n",
        "def do_something():\n",
        "    logger.debug(\"Doing something in module1\")\n",
        "\n",
        "# Module: module2.py\n",
        "import logging\n",
        "\n",
        "logger = logging.getLogger(__name__)\n",
        "handler = logging.StreamHandler()\n",
        "formatter = logging.Formatter('%(asctime)s - %(levelname)s - %(module)s - %(message)s')\n",
        "handler.setFormatter(formatter)\n",
        "logger.addHandler(handler)\n",
        "logger.setLevel(logging.INFO)\n",
        "\n",
        "def do_something_else():\n",
        "    logger.info(\"Doing something else in module2\")"
      ],
      "metadata": {
        "id": "DuwgzqmEa8gz"
      },
      "execution_count": null,
      "outputs": []
    },
    {
      "cell_type": "markdown",
      "source": [
        "# 9. What is the difference between the logging and print statements in Python? When should you use logging over print statements in a real-world application?"
      ],
      "metadata": {
        "id": "GDDWHaFUuKav"
      }
    },
    {
      "cell_type": "markdown",
      "source": [
        "#Logging\n",
        "\n",
        "**Logging is a more powerful and versatile mechanism for managing program output compared to print statements. It provides several benefits:**"
      ],
      "metadata": {
        "id": "kFd0vbX13gbH"
      }
    },
    {
      "cell_type": "markdown",
      "source": [
        "**Log Levels:** Logging supports different log levels (DEBUG, INFO, WARNING, ERROR, CRITICAL), allowing you to control the verbosity of the output based on the context or stage of the application.\n",
        "\n",
        "**Configurability:** Logging can be configured globally or per-module with different handlers, formatters, and levels. This provides fine-grained control over where and how log messages are displayed or stored.\n",
        "\n",
        "**Output Channels:** Log messages can be directed to different output channels (files, console, email, network, etc.) using various handlers. This makes it suitable for both development and production environments.\n",
        "\n",
        "**Flexibility:** Logging allows you to add contextual information (timestamps, module names, line numbers) to log messages, aiding in debugging and analysis.\n",
        "\n",
        "**Granular Control:** Loggers can be created for different modules or classes, allowing you to capture specific log messages only for those components."
      ],
      "metadata": {
        "id": "psbsQOjN3qbO"
      }
    },
    {
      "cell_type": "markdown",
      "source": [
        "# Print Statements:\n",
        "\n",
        "**Print statements are simple and straightforward, but they have limitations compared to logging:**"
      ],
      "metadata": {
        "id": "FNwuOGSs35Hb"
      }
    },
    {
      "cell_type": "markdown",
      "source": [
        "**No Levels:** Print statements don't have built-in levels. They always output the message without any way to differentiate the importance of the message.\n",
        "\n",
        "**Global Output:** Print statements send output to the standard output (usually the console). This is less flexible compared to logging, which can send messages to different channels.\n",
        "\n",
        "**No Contextual Information:** Print statements don't provide automatic contextual information like timestamps, module names, or line numbers."
      ],
      "metadata": {
        "id": "H2E-Koc04CSE"
      }
    },
    {
      "cell_type": "markdown",
      "source": [
        "# When to Use Logging over Print Statements:\n",
        "\n",
        "**In a real-world application, you should prefer logging over print statements in the following scenarios:**"
      ],
      "metadata": {
        "id": "2L4J5EfB4MAC"
      }
    },
    {
      "cell_type": "markdown",
      "source": [
        "**Debugging:** During development, use logging to trace program flow, monitor variable values, and understand the behavior of your code.\n",
        "\n",
        "**Error Handling:** Use logging to record errors, exceptions, and warnings. You can provide detailed error information for easier troubleshooting.\n",
        "\n",
        "**Production Environments:** In production, using logging allows you to monitor the application's behavior without cluttering the output visible to users. It's easier to control log levels and direct logs to appropriate channels.\n",
        "\n",
        "**Log Analysis:** Logging provides better structure and formatting, making it easier to analyze logs and gain insights into the application's behavior, usage patterns, and performance.\n",
        "\n",
        "**Collaboration:** When working on a team, logging helps maintain a standardized approach to capturing and analyzing program behavior, making it easier for multiple developers to collaborate."
      ],
      "metadata": {
        "id": "sLbAw6uE4OWD"
      }
    },
    {
      "cell_type": "markdown",
      "source": [
        "#10. Write a Python program that logs a message to a file named \"app.log\" with the following requirements:\n",
        "**● The log message should be \"Hello, World!\"**\n",
        "\n",
        "**● The log level should be set to \"INFO.\"**\n",
        "\n",
        "**● The log file should append new log entries without overwriting previous ones.**"
      ],
      "metadata": {
        "id": "7j5d2uwo4ioA"
      }
    },
    {
      "cell_type": "markdown",
      "source": [
        "# Here's a Python program that uses the logging module to log a message to a file named \"app.log\" with the specified requirements:"
      ],
      "metadata": {
        "id": "jz2M2mxZ4ykC"
      }
    },
    {
      "cell_type": "code",
      "source": [
        "import logging\n",
        "\n",
        "# Configure the logger\n",
        "logging.basicConfig(\n",
        "    filename='app.log',\n",
        "    level=logging.INFO,\n",
        "    format='%(asctime)s - %(levelname)s - %(message)s',\n",
        ")\n",
        "\n",
        "# Log the message\n",
        "logging.info(\"Hello, World!\")"
      ],
      "metadata": {
        "id": "Bp-1lMvC4F6g"
      },
      "execution_count": 5,
      "outputs": []
    },
    {
      "cell_type": "markdown",
      "source": [
        "# Explanation:\n",
        "\n",
        "**1.We import the logging module**.\n",
        "\n",
        "**2.We use the basicConfig function to configure the logging. We specify the log file name using the filename parameter, set the log level to INFO, and define the log message format using the format parameter.**\n",
        "\n",
        "**3.We use the logging.info() method to log the \"Hello, World!\" message with the specified log level.**"
      ],
      "metadata": {
        "id": "Dc7i5cVx5SAO"
      }
    },
    {
      "cell_type": "markdown",
      "source": [
        "# 11. Create a Python program that logs an error message to the console and a file named \"errors.log\" if an exception occurs during the program's execution. The error message should include the exception type and a timestamp."
      ],
      "metadata": {
        "id": "Hbz-qnN86wSP"
      }
    },
    {
      "cell_type": "markdown",
      "source": [
        "**Here's a Python program that logs an error message to both the console and a file named \"errors.log\" if an exception occurs during its execution. The error message includes the exception type and a timestamp:**"
      ],
      "metadata": {
        "id": "iXIyhWf47cLv"
      }
    },
    {
      "cell_type": "code",
      "source": [
        "import logging\n",
        "import traceback\n",
        "\n",
        "def main():\n",
        "    try:\n",
        "        # Your code that might raise an exception\n",
        "        result = 10 / 0  # This will raise a ZeroDivisionError\n",
        "    except Exception as e:\n",
        "        # Log the exception\n",
        "        logging.error(f\"Exception occurred: {e.__class__.__name__} - {e}\")\n",
        "        logging.error(traceback.format_exc())  # Log the traceback\n",
        "\n",
        "if __name__ == \"__main__\":\n",
        "    # Configure logging\n",
        "    logging.basicConfig(\n",
        "        level=logging.ERROR,\n",
        "        format='%(asctime)s - %(levelname)s - %(message)s',\n",
        "        handlers=[\n",
        "            logging.FileHandler('errors.log', mode='a'),\n",
        "            logging.StreamHandler()\n",
        "        ]\n",
        "    )\n",
        "\n",
        "    # Call the main function\n",
        "    main()"
      ],
      "metadata": {
        "id": "5KEQM0b84F0Z",
        "colab": {
          "base_uri": "https://localhost:8080/"
        },
        "outputId": "9cffd9f2-bd7f-46e1-9e5f-c26b5b314446"
      },
      "execution_count": 7,
      "outputs": [
        {
          "output_type": "stream",
          "name": "stderr",
          "text": [
            "ERROR:root:Exception occurred: ZeroDivisionError - division by zero\n",
            "ERROR:root:Traceback (most recent call last):\n",
            "  File \"<ipython-input-7-d2b7a0689c50>\", line 7, in main\n",
            "    result = 10 / 0  # This will raise a ZeroDivisionError\n",
            "ZeroDivisionError: division by zero\n",
            "\n"
          ]
        }
      ]
    },
    {
      "cell_type": "markdown",
      "source": [
        "# Explanation:\n",
        "\n",
        "**1. The main function contains your code that might raise an exception. In this example, we intentionally raise a ZeroDivisionError to demonstrate the logging of exceptions.**\n",
        "\n",
        "**2. Inside the except block, we use the logging.error() function to log the\n",
        "exception type (e.__class__.__name__) and the exception message (e).**\n",
        "\n",
        "**3. We use the traceback.format_exc() function to log the traceback, which includes the detailed stack trace of the exception.**\n",
        "\n",
        "**4. In the __name__ == \"__main__\" block, we configure logging using the basicConfig function. We set the log level to ERROR, specify the log format, and define two handlers: a FileHandler to log to the \"errors.log\" file and a StreamHandler to log to the console.**\n",
        "\n",
        "**5 .Finally, we call the main function to execute the code that might raise an exception.**"
      ],
      "metadata": {
        "id": "xbeUwYHT7oRT"
      }
    },
    {
      "cell_type": "code",
      "source": [],
      "metadata": {
        "id": "xwYo4LPc4FxU"
      },
      "execution_count": null,
      "outputs": []
    },
    {
      "cell_type": "code",
      "source": [],
      "metadata": {
        "id": "2lvEmJ7-4FuO"
      },
      "execution_count": null,
      "outputs": []
    },
    {
      "cell_type": "code",
      "execution_count": null,
      "metadata": {
        "id": "KrA8PT1yVWwC"
      },
      "outputs": [],
      "source": []
    }
  ]
}